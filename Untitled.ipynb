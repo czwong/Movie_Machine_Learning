{
 "cells": [
  {
   "cell_type": "code",
   "execution_count": 1,
   "metadata": {},
   "outputs": [],
   "source": [
    "# Dependencies\n",
    "import numpy as np\n",
    "import pandas as pd"
   ]
  },
  {
   "cell_type": "code",
   "execution_count": 2,
   "metadata": {},
   "outputs": [
    {
     "data": {
      "text/html": [
       "<div>\n",
       "<style scoped>\n",
       "    .dataframe tbody tr th:only-of-type {\n",
       "        vertical-align: middle;\n",
       "    }\n",
       "\n",
       "    .dataframe tbody tr th {\n",
       "        vertical-align: top;\n",
       "    }\n",
       "\n",
       "    .dataframe thead th {\n",
       "        text-align: right;\n",
       "    }\n",
       "</style>\n",
       "<table border=\"1\" class=\"dataframe\">\n",
       "  <thead>\n",
       "    <tr style=\"text-align: right;\">\n",
       "      <th></th>\n",
       "      <th>movieId</th>\n",
       "      <th>title</th>\n",
       "      <th>genres</th>\n",
       "    </tr>\n",
       "  </thead>\n",
       "  <tbody>\n",
       "    <tr>\n",
       "      <th>0</th>\n",
       "      <td>1</td>\n",
       "      <td>Toy Story (1995)</td>\n",
       "      <td>Adventure|Animation|Children|Comedy|Fantasy</td>\n",
       "    </tr>\n",
       "    <tr>\n",
       "      <th>1</th>\n",
       "      <td>2</td>\n",
       "      <td>Jumanji (1995)</td>\n",
       "      <td>Adventure|Children|Fantasy</td>\n",
       "    </tr>\n",
       "    <tr>\n",
       "      <th>2</th>\n",
       "      <td>3</td>\n",
       "      <td>Grumpier Old Men (1995)</td>\n",
       "      <td>Comedy|Romance</td>\n",
       "    </tr>\n",
       "    <tr>\n",
       "      <th>3</th>\n",
       "      <td>4</td>\n",
       "      <td>Waiting to Exhale (1995)</td>\n",
       "      <td>Comedy|Drama|Romance</td>\n",
       "    </tr>\n",
       "    <tr>\n",
       "      <th>4</th>\n",
       "      <td>5</td>\n",
       "      <td>Father of the Bride Part II (1995)</td>\n",
       "      <td>Comedy</td>\n",
       "    </tr>\n",
       "  </tbody>\n",
       "</table>\n",
       "</div>"
      ],
      "text/plain": [
       "   movieId                               title  \\\n",
       "0        1                    Toy Story (1995)   \n",
       "1        2                      Jumanji (1995)   \n",
       "2        3             Grumpier Old Men (1995)   \n",
       "3        4            Waiting to Exhale (1995)   \n",
       "4        5  Father of the Bride Part II (1995)   \n",
       "\n",
       "                                        genres  \n",
       "0  Adventure|Animation|Children|Comedy|Fantasy  \n",
       "1                   Adventure|Children|Fantasy  \n",
       "2                               Comedy|Romance  \n",
       "3                         Comedy|Drama|Romance  \n",
       "4                                       Comedy  "
      ]
     },
     "execution_count": 2,
     "metadata": {},
     "output_type": "execute_result"
    }
   ],
   "source": [
    "movies = pd.read_csv('resources/movies.csv')\n",
    "movies.head()"
   ]
  },
  {
   "cell_type": "code",
   "execution_count": 3,
   "metadata": {},
   "outputs": [],
   "source": [
    "# use TfidfVectorizer function from scikit-learn, which transforms text to \n",
    "# feature vectors that can be used as input to estimator.\n",
    "from sklearn.feature_extraction.text import TfidfVectorizer\n",
    "tf = TfidfVectorizer(analyzer='word',ngram_range=(1, 2),min_df=0, stop_words='english')\n",
    "tfidf_matrix = tf.fit_transform(movies['genres'])"
   ]
  },
  {
   "cell_type": "code",
   "execution_count": 4,
   "metadata": {},
   "outputs": [],
   "source": [
    "# used the TF-IDF Vectorizer, calculating the Dot \n",
    "# Product will directly give me the Cosine Similarity Score.\n",
    "from sklearn.metrics.pairwise import linear_kernel\n",
    "cosine_sim = linear_kernel(tfidf_matrix, tfidf_matrix)\n"
   ]
  },
  {
   "cell_type": "code",
   "execution_count": 8,
   "metadata": {},
   "outputs": [
    {
     "data": {
      "text/plain": [
       "RangeIndex(start=0, stop=9742, step=1)"
      ]
     },
     "execution_count": 8,
     "metadata": {},
     "output_type": "execute_result"
    }
   ],
   "source": []
  },
  {
   "cell_type": "code",
   "execution_count": 19,
   "metadata": {},
   "outputs": [
    {
     "data": {
      "text/plain": [
       "title\n",
       "Toy Story (1995)                                                      0\n",
       "Jumanji (1995)                                                        1\n",
       "Grumpier Old Men (1995)                                               2\n",
       "Waiting to Exhale (1995)                                              3\n",
       "Father of the Bride Part II (1995)                                    4\n",
       "Heat (1995)                                                           5\n",
       "Sabrina (1995)                                                        6\n",
       "Tom and Huck (1995)                                                   7\n",
       "Sudden Death (1995)                                                   8\n",
       "GoldenEye (1995)                                                      9\n",
       "American President, The (1995)                                       10\n",
       "Dracula: Dead and Loving It (1995)                                   11\n",
       "Balto (1995)                                                         12\n",
       "Nixon (1995)                                                         13\n",
       "Cutthroat Island (1995)                                              14\n",
       "Casino (1995)                                                        15\n",
       "Sense and Sensibility (1995)                                         16\n",
       "Four Rooms (1995)                                                    17\n",
       "Ace Ventura: When Nature Calls (1995)                                18\n",
       "Money Train (1995)                                                   19\n",
       "Get Shorty (1995)                                                    20\n",
       "Copycat (1995)                                                       21\n",
       "Assassins (1995)                                                     22\n",
       "Powder (1995)                                                        23\n",
       "Leaving Las Vegas (1995)                                             24\n",
       "Othello (1995)                                                       25\n",
       "Now and Then (1995)                                                  26\n",
       "Persuasion (1995)                                                    27\n",
       "City of Lost Children, The (Cité des enfants perdus, La) (1995)      28\n",
       "Shanghai Triad (Yao a yao yao dao waipo qiao) (1995)                 29\n",
       "                                                                   ... \n",
       "Sorry to Bother You (2018)                                         9712\n",
       "Ant-Man and the Wasp (2018)                                        9713\n",
       "Dogman (2018)                                                      9714\n",
       "Mamma Mia: Here We Go Again! (2018)                                9715\n",
       "Tag (2018)                                                         9716\n",
       "The Man Who Killed Don Quixote (2018)                              9717\n",
       "Boundaries (2018)                                                  9718\n",
       "Spiral (2018)                                                      9719\n",
       "Mission: Impossible - Fallout (2018)                               9720\n",
       "SuperFly (2018)                                                    9721\n",
       "Iron Soldier (2010)                                                9722\n",
       "BlacKkKlansman (2018)                                              9723\n",
       "The Darkest Minds (2018)                                           9724\n",
       "Tilt (2011)                                                        9725\n",
       "Jeff Ross Roasts the Border (2017)                                 9726\n",
       "John From (2015)                                                   9727\n",
       "Liquid Truth (2017)                                                9728\n",
       "Bunny (1998)                                                       9729\n",
       "Hommage à Zgougou (et salut à Sabine Mamou) (2002)                 9730\n",
       "Gintama (2017)                                                     9731\n",
       "Gintama: The Movie (2010)                                          9732\n",
       "anohana: The Flower We Saw That Day - The Movie (2013)             9733\n",
       "Silver Spoon (2014)                                                9734\n",
       "Love Live! The School Idol Movie (2015)                            9735\n",
       "Jon Stewart Has Left the Building (2015)                           9736\n",
       "Black Butler: Book of the Atlantic (2017)                          9737\n",
       "No Game No Life: Zero (2017)                                       9738\n",
       "Flint (2017)                                                       9739\n",
       "Bungo Stray Dogs: Dead Apple (2018)                                9740\n",
       "Andrew Dice Clay: Dice Rules (1991)                                9741\n",
       "Length: 9742, dtype: int64"
      ]
     },
     "execution_count": 19,
     "metadata": {},
     "output_type": "execute_result"
    }
   ],
   "source": [
    "# Build a 1-dimensional array with movie titles\n",
    "titles = movies['title']\n",
    "indices = pd.Series(movies.index, index=movies['title'])\n",
    "indices\n",
    "# indices['Jumanji (1995)']\n",
    "# titles"
   ]
  },
  {
   "cell_type": "code",
   "execution_count": 6,
   "metadata": {},
   "outputs": [],
   "source": [
    "# Function that get movie recommendations based on the cosine similarity score of movie genres\n",
    "def genre_recommendations(title):\n",
    "    idx = indices[title]\n",
    "    sim_scores = list(enumerate(cosine_sim[idx]))\n",
    "    sim_scores = sorted(sim_scores, key=lambda x: x[1], reverse=True)\n",
    "    sim_scores = sim_scores[1:21]\n",
    "    movie_indices = [i[0] for i in sim_scores]\n",
    "    return titles.iloc[movie_indices]"
   ]
  },
  {
   "cell_type": "code",
   "execution_count": 7,
   "metadata": {},
   "outputs": [
    {
     "data": {
      "text/plain": [
       "53                     Indian in the Cupboard, The (1995)\n",
       "109                     NeverEnding Story III, The (1994)\n",
       "767                       Escape to Witch Mountain (1975)\n",
       "1514            Darby O'Gill and the Little People (1959)\n",
       "1556                                  Return to Oz (1985)\n",
       "1617                        NeverEnding Story, The (1984)\n",
       "1618    NeverEnding Story II: The Next Chapter, The (1...\n",
       "1799                        Santa Claus: The Movie (1985)\n",
       "3574    Harry Potter and the Sorcerer's Stone (a.k.a. ...\n",
       "6075    Chronicles of Narnia: The Lion, the Witch and ...\n",
       "6389                          Bridge to Terabithia (2007)\n",
       "6629                           Golden Compass, The (2007)\n",
       "6655          Water Horse: Legend of the Deep, The (2007)\n",
       "6751     Chronicles of Narnia: Prince Caspian, The (2008)\n",
       "7426                           Alice in Wonderland (1933)\n",
       "7478    Chronicles of Narnia: The Voyage of the Dawn T...\n",
       "8230                Percy Jackson: Sea of Monsters (2013)\n",
       "8641                                   Seventh Son (2014)\n",
       "8719                   The Cave of the Golden Rose (1991)\n",
       "8800                                           Pan (2015)\n",
       "Name: title, dtype: object"
      ]
     },
     "execution_count": 7,
     "metadata": {},
     "output_type": "execute_result"
    }
   ],
   "source": [
    "genre_recommendations('Jumanji (1995)').head(20)"
   ]
  },
  {
   "cell_type": "code",
   "execution_count": null,
   "metadata": {},
   "outputs": [],
   "source": []
  }
 ],
 "metadata": {
  "kernelspec": {
   "display_name": "Python 3",
   "language": "python",
   "name": "python3"
  },
  "language_info": {
   "codemirror_mode": {
    "name": "ipython",
    "version": 3
   },
   "file_extension": ".py",
   "mimetype": "text/x-python",
   "name": "python",
   "nbconvert_exporter": "python",
   "pygments_lexer": "ipython3",
   "version": "3.6.7"
  }
 },
 "nbformat": 4,
 "nbformat_minor": 2
}
