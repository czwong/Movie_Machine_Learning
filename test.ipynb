{
 "cells": [
  {
   "cell_type": "code",
   "execution_count": 1,
   "metadata": {},
   "outputs": [],
   "source": [
    "# Dependencies\n",
    "import numpy as np\n",
    "import pandas as pd\n",
    "# Python SQL toolkit and Object Relational Mapper\n",
    "import sqlalchemy\n",
    "from sqlalchemy.ext.automap import automap_base\n",
    "from sqlalchemy.orm import Session\n",
    "from sqlalchemy import create_engine"
   ]
  },
  {
   "cell_type": "code",
   "execution_count": 2,
   "metadata": {},
   "outputs": [],
   "source": [
    "import sqlite3\n",
    "from sklearn.feature_extraction.text import TfidfVectorizer\n",
    "from sklearn.metrics.pairwise import linear_kernel"
   ]
  },
  {
   "cell_type": "code",
   "execution_count": 3,
   "metadata": {},
   "outputs": [],
   "source": [
    "engine = create_engine('sqlite:///db/newfinaldata.sqlite')\n",
    "# Declare a Base using `automap_base()`\n",
    "Base = automap_base()\n",
    "# Use the Base class to reflect the database tables\n",
    "Base.prepare(engine, reflect=True)"
   ]
  },
  {
   "cell_type": "code",
   "execution_count": 4,
   "metadata": {},
   "outputs": [],
   "source": [
    "# Save references to each table\n",
    "Movies = Base.classes.movie_data\n",
    "Images = Base.classes.images\n",
    "Upcoming = Base.classes.upcoming"
   ]
  },
  {
   "cell_type": "code",
   "execution_count": 5,
   "metadata": {},
   "outputs": [],
   "source": [
    "# Create a session\n",
    "session = Session(engine)"
   ]
  },
  {
   "cell_type": "code",
   "execution_count": null,
   "metadata": {},
   "outputs": [],
   "source": []
  },
  {
   "cell_type": "code",
   "execution_count": 6,
   "metadata": {},
   "outputs": [
    {
     "data": {
      "text/plain": [
       "'The Kitchen'"
      ]
     },
     "execution_count": 6,
     "metadata": {},
     "output_type": "execute_result"
    }
   ],
   "source": [
    "cnx = sqlite3.connect('db/newfinaldata.sqlite')\n",
    "df_upcoming = pd.read_sql_query(\"SELECT * FROM upcoming\", cnx)\n",
    "df_upcoming[\"name\"][6]"
   ]
  },
  {
   "cell_type": "code",
   "execution_count": 7,
   "metadata": {},
   "outputs": [],
   "source": [
    "# df_upcoming['genre'] = df_upcoming['genre'].str.strip()\n",
    "# df_upcoming['genre'] = df_upcoming['genre'].str.replace(\" \",\"\")\n",
    "# df_upcoming[\"genre\"][10]"
   ]
  },
  {
   "cell_type": "code",
   "execution_count": null,
   "metadata": {},
   "outputs": [],
   "source": []
  },
  {
   "cell_type": "code",
   "execution_count": null,
   "metadata": {},
   "outputs": [],
   "source": []
  },
  {
   "cell_type": "code",
   "execution_count": 8,
   "metadata": {},
   "outputs": [],
   "source": [
    "def recommend_upcoming(movie_name, genre):\n",
    "\n",
    "    cnx = sqlite3.connect('db/newfinaldata.sqlite')\n",
    "    df_upcoming = pd.read_sql_query(\"SELECT * FROM upcoming\", cnx)\n",
    "    \n",
    "    # drop unnecessary column\n",
    "    df_upcoming = df_upcoming[['name', 'genre']]\n",
    "    df_upcoming['genre'] = df_upcoming['genre'].str.strip()\n",
    "    df_upcoming['genre'] = df_upcoming['genre'].str.replace(\" \",\"\")\n",
    "    \n",
    "    \n",
    "#     print(df_upcoming.head())\n",
    "#     print(df_upcoming[\"genre\"])\n",
    "\n",
    "    # Break up the big genre string into a string array\n",
    "    df_upcoming['genre'] = df_upcoming['genre'].str.split(',')\n",
    "    \n",
    "#     print(df_upcoming.head())\n",
    "\n",
    "    dict1 = {\n",
    "         \"name\": movie_name['Title'],\n",
    "         \"genre\": genre\n",
    "    }\n",
    "    \n",
    "#     print(dict1)\n",
    "    \n",
    "    ref_df = pd.DataFrame(dict1, index = [0])\n",
    "    ref_df['genre'] = ref_df['genre'].str.split('|')\n",
    "#     ref_df['genre'] = ref_df['genre'].fillna(\"\").astype('str')\n",
    "#     print(ref_df)\n",
    "    \n",
    "    \n",
    "    df_upcoming = df_upcoming.append(ref_df, ignore_index=True)\n",
    "    \n",
    "    print(df_upcoming.tail())\n",
    "\n",
    "    # Convert genres to string value\n",
    "    df_upcoming['genre'] = df_upcoming['genre'].fillna(\"\").astype('str')\n",
    "    print(df_upcoming.tail())\n",
    "\n",
    "    tf = TfidfVectorizer(analyzer='word',ngram_range=(1, 2),min_df=0, stop_words='english')\n",
    "    tfidf_matrix = tf.fit_transform(df_upcoming['genre'])\n",
    "    # print(tfidf_matrix)\n",
    "    cosine_sim = linear_kernel(tfidf_matrix, tfidf_matrix)\n",
    "    # print(cosine_sim)\n",
    "    \n",
    "\n",
    "    # Build a 1-dimensional array with movie titles\n",
    "    titles = df_upcoming['name']\n",
    "    indices = pd.Series(df_upcoming.index, index=df_upcoming['name'])\n",
    "    # print(indices)\n",
    "\n",
    "    idx = indices[movie_name['Title']]\n",
    "    sim_scores = list(enumerate(cosine_sim[idx]))\n",
    "    sim_scores = sorted(sim_scores, key=lambda x: x[1], reverse=True)\n",
    "    sim_scores = sim_scores[0:4]\n",
    "    movie_indices = [i[0] for i in sim_scores]\n",
    "\n",
    "    recommendations =  titles.iloc[movie_indices]\n",
    "\n",
    "    return recommendations"
   ]
  },
  {
   "cell_type": "code",
   "execution_count": 9,
   "metadata": {},
   "outputs": [],
   "source": [
    "def get_genre(movie):\n",
    "    sel = [\n",
    "        Movies.name,\n",
    "        Movies.genre\n",
    "    ]\n",
    "\n",
    "    table = session.query(*sel).filter(Movies.name == movie).all()\n",
    "#     print(table)\n",
    "\n",
    "    movie_data = []\n",
    "    for results in table:\n",
    "        movie = {}\n",
    "        movie[\"Title\"] = results[0]\n",
    "        movie[\"Genre\"] = results[1]\n",
    "        movie_data.append(movie)\n",
    "    \n",
    "#     print(movie_data)\n",
    "    movie_data = movie_data[0]\n",
    "    \n",
    "    # movie_data['Genre'] = movie_data['Genre'].split(\"|\")\n",
    "#     print(movie_data['Genre'])\n",
    "\n",
    "    upcoming_movies = list(recommend_upcoming(movie, movie_data[\"Genre\"]))\n",
    "#     print(type(upcoming_movies))\n",
    "    \n",
    "    counter = 0\n",
    "    for item in upcoming_movies:\n",
    "        if item == movie_data[\"Title\"]:\n",
    "            upcoming_movies.remove(movie_data[\"Title\"])\n",
    "            counter += 1\n",
    "\n",
    "    if counter == 0:\n",
    "        del upcoming_movies[-1]\n",
    "        \n",
    "    return upcoming_movies\n",
    "#     movie_recommendation = clean_movies_two(upcoming_movies, movie)\n",
    "\n",
    "#     try:     \n",
    "#         movie_recommendation = clean_movies_two(upcoming_movies, movie)\n",
    "#     except KeyError:\n",
    "#         movie_recommendation: []\n",
    "\n",
    "#     return movie_recommendation\n"
   ]
  },
  {
   "cell_type": "code",
   "execution_count": 10,
   "metadata": {},
   "outputs": [
    {
     "name": "stdout",
     "output_type": "stream",
     "text": [
      "                   name                                       genre\n",
      "50    The Rosie Project                                   [Romance]\n",
      "51                Wendy                            [Drama, Fantasy]\n",
      "52                Spawn                   [Action, Fantasy, Horror]\n",
      "53                  Eli                                    [Horror]\n",
      "54  10 Cloverfield Lane  [Drama, Horror, Mystery, Sci-Fi, Thriller]\n",
      "                   name                                              genre\n",
      "50    The Rosie Project                                        ['Romance']\n",
      "51                Wendy                               ['Drama', 'Fantasy']\n",
      "52                Spawn                    ['Action', 'Fantasy', 'Horror']\n",
      "53                  Eli                                         ['Horror']\n",
      "54  10 Cloverfield Lane  ['Drama', 'Horror', 'Mystery', 'Sci-Fi', 'Thri...\n"
     ]
    },
    {
     "data": {
      "text/plain": [
       "['Ready or Not', 'Black Christmas', 'Lucy in the Sky']"
      ]
     },
     "execution_count": 10,
     "metadata": {},
     "output_type": "execute_result"
    }
   ],
   "source": [
    "get_genre('10 Cloverfield Lane')"
   ]
  },
  {
   "cell_type": "code",
   "execution_count": null,
   "metadata": {},
   "outputs": [],
   "source": []
  },
  {
   "cell_type": "code",
   "execution_count": null,
   "metadata": {},
   "outputs": [],
   "source": []
  },
  {
   "cell_type": "code",
   "execution_count": null,
   "metadata": {},
   "outputs": [],
   "source": []
  },
  {
   "cell_type": "code",
   "execution_count": null,
   "metadata": {},
   "outputs": [],
   "source": []
  }
 ],
 "metadata": {
  "kernelspec": {
   "display_name": "Python 3",
   "language": "python",
   "name": "python3"
  },
  "language_info": {
   "codemirror_mode": {
    "name": "ipython",
    "version": 3
   },
   "file_extension": ".py",
   "mimetype": "text/x-python",
   "name": "python",
   "nbconvert_exporter": "python",
   "pygments_lexer": "ipython3",
   "version": "3.6.7"
  }
 },
 "nbformat": 4,
 "nbformat_minor": 2
}
