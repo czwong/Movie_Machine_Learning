{
 "cells": [
  {
   "cell_type": "code",
   "execution_count": 36,
   "metadata": {},
   "outputs": [],
   "source": [
    "# Dependencies\n",
    "import numpy as np\n",
    "import pandas as pd"
   ]
  },
  {
   "cell_type": "code",
   "execution_count": 37,
   "metadata": {},
   "outputs": [
    {
     "data": {
      "text/html": [
       "<div>\n",
       "<style scoped>\n",
       "    .dataframe tbody tr th:only-of-type {\n",
       "        vertical-align: middle;\n",
       "    }\n",
       "\n",
       "    .dataframe tbody tr th {\n",
       "        vertical-align: top;\n",
       "    }\n",
       "\n",
       "    .dataframe thead th {\n",
       "        text-align: right;\n",
       "    }\n",
       "</style>\n",
       "<table border=\"1\" class=\"dataframe\">\n",
       "  <thead>\n",
       "    <tr style=\"text-align: right;\">\n",
       "      <th></th>\n",
       "      <th>Unnamed: 0</th>\n",
       "      <th>genre</th>\n",
       "      <th>image</th>\n",
       "      <th>name</th>\n",
       "      <th>release_date</th>\n",
       "    </tr>\n",
       "  </thead>\n",
       "  <tbody>\n",
       "    <tr>\n",
       "      <th>0</th>\n",
       "      <td>49</td>\n",
       "      <td>Action, Comedy</td>\n",
       "      <td>https://m.media-amazon.com/images/M/MV5BOGE1Zj...</td>\n",
       "      <td>Stuber</td>\n",
       "      <td>Release date - July 12th 2019</td>\n",
       "    </tr>\n",
       "    <tr>\n",
       "      <th>1</th>\n",
       "      <td>50</td>\n",
       "      <td>Animation, Adventure, Drama</td>\n",
       "      <td>https://m.media-amazon.com/images/M/MV5BMjIwMj...</td>\n",
       "      <td>The Lion King</td>\n",
       "      <td>Release date - July 19th</td>\n",
       "    </tr>\n",
       "    <tr>\n",
       "      <th>2</th>\n",
       "      <td>51</td>\n",
       "      <td>Comedy, Drama</td>\n",
       "      <td>https://m.media-amazon.com/images/M/MV5BOTg4ZT...</td>\n",
       "      <td>Once Upon a Time ... in Hollywood</td>\n",
       "      <td>Release date - July 26th</td>\n",
       "    </tr>\n",
       "    <tr>\n",
       "      <th>3</th>\n",
       "      <td>52</td>\n",
       "      <td>Action, Adventure, Comedy</td>\n",
       "      <td>https://m.media-amazon.com/images/M/MV5BMTc4Nz...</td>\n",
       "      <td>Fast &amp; Furious Presents: Hobbs &amp; Shaw</td>\n",
       "      <td>Release date - August 2nd</td>\n",
       "    </tr>\n",
       "    <tr>\n",
       "      <th>4</th>\n",
       "      <td>53</td>\n",
       "      <td>Horror</td>\n",
       "      <td>https://m.media-amazon.com/images/M/MV5BMjA0MD...</td>\n",
       "      <td>Scary Stories to Tell in the Dark</td>\n",
       "      <td>Release date - August 9th</td>\n",
       "    </tr>\n",
       "  </tbody>\n",
       "</table>\n",
       "</div>"
      ],
      "text/plain": [
       "   Unnamed: 0                                    genre  \\\n",
       "0          49               Action, Comedy               \n",
       "1          50  Animation, Adventure, Drama               \n",
       "2          51                Comedy, Drama               \n",
       "3          52    Action, Adventure, Comedy               \n",
       "4          53                       Horror               \n",
       "\n",
       "                                               image  \\\n",
       "0  https://m.media-amazon.com/images/M/MV5BOGE1Zj...   \n",
       "1  https://m.media-amazon.com/images/M/MV5BMjIwMj...   \n",
       "2  https://m.media-amazon.com/images/M/MV5BOTg4ZT...   \n",
       "3  https://m.media-amazon.com/images/M/MV5BMTc4Nz...   \n",
       "4  https://m.media-amazon.com/images/M/MV5BMjA0MD...   \n",
       "\n",
       "                                    name                   release_date  \n",
       "0                                 Stuber  Release date - July 12th 2019  \n",
       "1                          The Lion King       Release date - July 19th  \n",
       "2      Once Upon a Time ... in Hollywood       Release date - July 26th  \n",
       "3  Fast & Furious Presents: Hobbs & Shaw      Release date - August 2nd  \n",
       "4      Scary Stories to Tell in the Dark      Release date - August 9th  "
      ]
     },
     "execution_count": 37,
     "metadata": {},
     "output_type": "execute_result"
    }
   ],
   "source": [
    "new_movies = pd.read_csv('resources/upcoming_movies_2019.csv')\n",
    "new_movies.head()"
   ]
  },
  {
   "cell_type": "markdown",
   "metadata": {},
   "source": [
    "Clean up the new dataset"
   ]
  },
  {
   "cell_type": "code",
   "execution_count": 38,
   "metadata": {},
   "outputs": [
    {
     "data": {
      "text/html": [
       "<div>\n",
       "<style scoped>\n",
       "    .dataframe tbody tr th:only-of-type {\n",
       "        vertical-align: middle;\n",
       "    }\n",
       "\n",
       "    .dataframe tbody tr th {\n",
       "        vertical-align: top;\n",
       "    }\n",
       "\n",
       "    .dataframe thead th {\n",
       "        text-align: right;\n",
       "    }\n",
       "</style>\n",
       "<table border=\"1\" class=\"dataframe\">\n",
       "  <thead>\n",
       "    <tr style=\"text-align: right;\">\n",
       "      <th></th>\n",
       "      <th>title</th>\n",
       "      <th>genres</th>\n",
       "    </tr>\n",
       "  </thead>\n",
       "  <tbody>\n",
       "    <tr>\n",
       "      <th>0</th>\n",
       "      <td>Stuber</td>\n",
       "      <td>Action, Comedy</td>\n",
       "    </tr>\n",
       "    <tr>\n",
       "      <th>1</th>\n",
       "      <td>The Lion King</td>\n",
       "      <td>Animation, Adventure, Drama</td>\n",
       "    </tr>\n",
       "    <tr>\n",
       "      <th>2</th>\n",
       "      <td>Once Upon a Time ... in Hollywood</td>\n",
       "      <td>Comedy, Drama</td>\n",
       "    </tr>\n",
       "    <tr>\n",
       "      <th>3</th>\n",
       "      <td>Fast &amp; Furious Presents: Hobbs &amp; Shaw</td>\n",
       "      <td>Action, Adventure, Comedy</td>\n",
       "    </tr>\n",
       "    <tr>\n",
       "      <th>4</th>\n",
       "      <td>Scary Stories to Tell in the Dark</td>\n",
       "      <td>Horror</td>\n",
       "    </tr>\n",
       "  </tbody>\n",
       "</table>\n",
       "</div>"
      ],
      "text/plain": [
       "                                   title  \\\n",
       "0                                 Stuber   \n",
       "1                          The Lion King   \n",
       "2      Once Upon a Time ... in Hollywood   \n",
       "3  Fast & Furious Presents: Hobbs & Shaw   \n",
       "4      Scary Stories to Tell in the Dark   \n",
       "\n",
       "                                    genres  \n",
       "0               Action, Comedy              \n",
       "1  Animation, Adventure, Drama              \n",
       "2                Comedy, Drama              \n",
       "3    Action, Adventure, Comedy              \n",
       "4                       Horror              "
      ]
     },
     "execution_count": 38,
     "metadata": {},
     "output_type": "execute_result"
    }
   ],
   "source": [
    "new_movies = new_movies[['name', 'genre']]\n",
    "new_movies = new_movies.rename(columns = {'name':'title', 'genre':'genres'})\n",
    "new_movies.head()"
   ]
  },
  {
   "cell_type": "code",
   "execution_count": 39,
   "metadata": {},
   "outputs": [],
   "source": [
    "# Break up the big genre string into a string array\n",
    "new_movies['genres'] = new_movies['genres'].str.split(',')\n",
    "# Convert genres to string value\n",
    "new_movies['genres'] = new_movies['genres'].fillna(\"\").astype('str')"
   ]
  },
  {
   "cell_type": "markdown",
   "metadata": {},
   "source": [
    "transfer text into vector"
   ]
  },
  {
   "cell_type": "code",
   "execution_count": 40,
   "metadata": {},
   "outputs": [],
   "source": [
    "# use TfidfVectorizer function from scikit-learn, which transforms text to \n",
    "# feature vectors that can be used as input to estimator.\n",
    "from sklearn.feature_extraction.text import TfidfVectorizer\n",
    "tf = TfidfVectorizer(analyzer='word',ngram_range=(1, 2),min_df=0, stop_words='english')\n",
    "# transfer the new dataset\n",
    "tfidf_matrix = tf.fit_transform(new_movies['genres'])"
   ]
  },
  {
   "cell_type": "code",
   "execution_count": 41,
   "metadata": {},
   "outputs": [],
   "source": [
    "# used the TF-IDF Vectorizer, calculating the Dot \n",
    "# Product will directly give me the Cosine Similarity Score.\n",
    "from sklearn.metrics.pairwise import linear_kernel\n",
    "cosine_sim = linear_kernel(tfidf_matrix, tfidf_matrix)"
   ]
  },
  {
   "cell_type": "code",
   "execution_count": 42,
   "metadata": {},
   "outputs": [
    {
     "data": {
      "text/plain": [
       "'Stuber'"
      ]
     },
     "execution_count": 42,
     "metadata": {},
     "output_type": "execute_result"
    }
   ],
   "source": [
    "new_movies['title'][0]"
   ]
  },
  {
   "cell_type": "code",
   "execution_count": 43,
   "metadata": {},
   "outputs": [
    {
     "data": {
      "text/plain": [
       "title\n",
       "Stuber                                             0\n",
       "The Lion King                                      1\n",
       "Once Upon a Time ... in Hollywood                  2\n",
       "Fast & Furious Presents: Hobbs & Shaw              3\n",
       "Scary Stories to Tell in the Dark                  4\n",
       "Dora and the Lost City of Gold                     5\n",
       "The Kitchen                                        6\n",
       "The Art of Racing in the Rain                      7\n",
       "The Nightingale                                    8\n",
       "The Angry Birds Movie 2                            9\n",
       "Where'd You Go, Bernadette                        10\n",
       "Ready or Not                                      11\n",
       "Playmobil: The Movie                              12\n",
       "It Chapter Two                                    13\n",
       "Ad Astra                                          14\n",
       "Rambo: Last Blood                                 15\n",
       "Downton Abbey                                     16\n",
       "Abominable                                        17\n",
       "The Hunt                                          18\n",
       "Doom: Annihilation                                19\n",
       "Joker                                             20\n",
       "Gemini Man                                        21\n",
       "The Woman in the Window                           22\n",
       "Zombieland: Double Tap                            23\n",
       "The Addams Family                                 24\n",
       "The Goldfinch                                     25\n",
       "Maleficent: Mistress of Evil                      26\n",
       "Jojo Rabbit                                       27\n",
       "Torrance                                          28\n",
       "Terminator: Dark Fate                             29\n",
       "Motherless Brooklyn                               30\n",
       "Doctor Sleep                                      31\n",
       "Ford v Ferrari                                    32\n",
       "Charlie's Angels                                  33\n",
       "The Good Liar                                     34\n",
       "Last Christmas                                    35\n",
       "Frozen II                                         36\n",
       "A Beautiful Day in the Neighborhood               37\n",
       "The Rhythm Section                                38\n",
       "Knives Out                                        39\n",
       "Queen & Slim                                      40\n",
       "Untitled Jumanji: Welcome to the Jungle Sequel    41\n",
       "Black Christmas                                   42\n",
       "Star Wars: The Rise of Skywalker                  43\n",
       "Cats                                              44\n",
       "Spies in Disguise                                 45\n",
       "Superintelligence                                 46\n",
       "Little Women                                      47\n",
       "1917                                              48\n",
       "Lucy in the Sky                                   49\n",
       "The Rosie Project                                 50\n",
       "Wendy                                             51\n",
       "Spawn                                             52\n",
       "Eli                                               53\n",
       "dtype: int64"
      ]
     },
     "execution_count": 43,
     "metadata": {},
     "output_type": "execute_result"
    }
   ],
   "source": [
    "titles = new_movies['title']\n",
    "indices = pd.Series(new_movies.index, index=new_movies['title'])\n",
    "indices"
   ]
  },
  {
   "cell_type": "code",
   "execution_count": 45,
   "metadata": {},
   "outputs": [],
   "source": [
    "# Function that get movie recommendations based on the cosine similarity score of movie genres\n",
    "def genre_recommendations(title):\n",
    "    idx = indices[title]\n",
    "    sim_scores = list(enumerate(cosine_sim[idx]))\n",
    "    sim_scores = sorted(sim_scores, key=lambda x: x[1], reverse=True)\n",
    "    sim_scores = sim_scores[1:21]\n",
    "    movie_indices = [i[0] for i in sim_scores]\n",
    "    return titles.iloc[movie_indices]"
   ]
  },
  {
   "cell_type": "code",
   "execution_count": 47,
   "metadata": {},
   "outputs": [
    {
     "data": {
      "text/plain": [
       "46         Superintelligence\n",
       "23    Zombieland: Double Tap\n",
       "Name: title, dtype: object"
      ]
     },
     "execution_count": 47,
     "metadata": {},
     "output_type": "execute_result"
    }
   ],
   "source": [
    "genre_recommendations('Stuber').head(2)"
   ]
  },
  {
   "cell_type": "code",
   "execution_count": null,
   "metadata": {},
   "outputs": [],
   "source": []
  }
 ],
 "metadata": {
  "kernelspec": {
   "display_name": "Python 3",
   "language": "python",
   "name": "python3"
  },
  "language_info": {
   "codemirror_mode": {
    "name": "ipython",
    "version": 3
   },
   "file_extension": ".py",
   "mimetype": "text/x-python",
   "name": "python",
   "nbconvert_exporter": "python",
   "pygments_lexer": "ipython3",
   "version": "3.6.7"
  }
 },
 "nbformat": 4,
 "nbformat_minor": 2
}
